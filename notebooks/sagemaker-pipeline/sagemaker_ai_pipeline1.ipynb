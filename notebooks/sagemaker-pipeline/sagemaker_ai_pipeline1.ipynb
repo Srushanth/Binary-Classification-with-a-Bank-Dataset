{
 "cells": [
  {
   "cell_type": "code",
   "execution_count": null,
   "metadata": {},
   "outputs": [],
   "source": [
    "import sagemaker\n",
    "role = sagemaker.get_execution_role()\n",
    "print(role)"
   ]
  },
  {
   "cell_type": "code",
   "execution_count": null,
   "metadata": {},
   "outputs": [],
   "source": [
    "import sagemaker\n",
    "\n",
    "# Get the default SageMaker execution role\n",
    "role_arn = sagemaker.get_execution_role()\n",
    "role_arn"
   ]
  },
  {
   "cell_type": "code",
   "execution_count": null,
   "metadata": {},
   "outputs": [],
   "source": [
    "import pandas as pd\n",
    "from sagemaker.workflow.function_step import step\n",
    "from sagemaker.workflow.step_outputs import get_step\n",
    "from sagemaker.workflow.pipeline import Pipeline\n",
    "from sagemaker.workflow.parameters import ParameterString\n",
    "from sagemaker.workflow.parameters import ParameterInteger\n",
    "from sagemaker.workflow.parameters import ParameterFloat"
   ]
  },
  {
   "cell_type": "code",
   "execution_count": null,
   "metadata": {},
   "outputs": [],
   "source": [
    "train_data_path = ParameterString(\n",
    "    name=\"TrainDataPath\",\n",
    "    default_value=\"s3://srushanth-baride/binary-classification-with-a-bank-dataset/train.csv\"\n",
    ")\n",
    "\n",
    "test_data_path = ParameterString(\n",
    "    name=\"TestDataPath\",\n",
    "    default_value=\"s3://srushanth-baride/binary-classification-with-a-bank-dataset/test.csv\"\n",
    ")"
   ]
  },
  {
   "cell_type": "code",
   "execution_count": null,
   "metadata": {},
   "outputs": [],
   "source": [
    "instance_type = ParameterString(\n",
    "    name=\"InstanceType\",\n",
    "    default_value=\"ml.m5.xlarge\"\n",
    ")\n",
    "\n",
    "instance_count = ParameterInteger(\n",
    "    name=\"InstanceCount\",\n",
    "    default_value=1\n",
    ")"
   ]
  },
  {
   "cell_type": "code",
   "execution_count": null,
   "metadata": {},
   "outputs": [],
   "source": [
    "train_test_split_ratio = ParameterFloat(\n",
    "    name=\"TrainTestSplitRatio\",\n",
    "    default_value=0.8\n",
    ")"
   ]
  },
  {
   "cell_type": "markdown",
   "metadata": {},
   "source": [
    "---"
   ]
  },
  {
   "cell_type": "code",
   "execution_count": null,
   "metadata": {},
   "outputs": [],
   "source": [
    "@step(\n",
    "    name=\"IngestTrainingData\",\n",
    "    display_name=\"Ingest Training Data\",\n",
    "    instance_type=instance_type,\n",
    "    instance_count=instance_count\n",
    ")\n",
    "def ingest_train_data(s3_path: ParameterString) -> pd.DataFrame:\n",
    "    \"\"\"\n",
    "    Ingest data from S3 path\n",
    "    \n",
    "    Args:\n",
    "        s3_path (ParameterString): S3 path to training data\n",
    "        \n",
    "    Returns:\n",
    "        pd.DataFrame: Training dataframe\n",
    "    \"\"\"\n",
    "    df = pd.read_csv(s3_path)\n",
    "    print(f\"Ingested data with shape: {df.shape}\")\n",
    "    return df\n",
    "\n",
    "@step(\n",
    "    name=\"IngestTestingData\",\n",
    "    display_name=\"Ingest Testing Data\",\n",
    "    instance_type=instance_type,\n",
    "    instance_count=instance_count\n",
    ")\n",
    "def ingest_test_data(s3_path: ParameterString) -> pd.DataFrame:\n",
    "    \"\"\"\n",
    "    Ingest data from S3 path\n",
    "    \n",
    "    Args:\n",
    "        s3_path (ParameterString): S3 path to training data\n",
    "        \n",
    "    Returns:\n",
    "        pd.DataFrame: Training dataframe\n",
    "    \"\"\"\n",
    "    df = pd.read_csv(s3_path)\n",
    "    print(f\"Ingested data with shape: {df.shape}\")\n",
    "    return df"
   ]
  },
  {
   "cell_type": "code",
   "execution_count": null,
   "metadata": {},
   "outputs": [],
   "source": [
    "@step(\n",
    "    name=\"ExtractFeatures\",\n",
    "    display_name=\"Extract Feature Columns\",\n",
    "    instance_type=instance_type,\n",
    "    instance_count=instance_count,\n",
    ")\n",
    "def extract_features_column(df: pd.DataFrame) -> pd.DataFrame:\n",
    "    \"\"\"\n",
    "    Extract feature columns from training data\n",
    "\n",
    "    Args:\n",
    "        train_df (pd.DataFrame): Training dataframe\n",
    "\n",
    "    Returns:\n",
    "        pd.Series: Feature variable series\n",
    "    \"\"\"\n",
    "    features_df = df.drop(columns=[\"y\"])\n",
    "    print(f\"Extracted Features columns with {features_df.shape} samples\")\n",
    "    return features_df\n",
    "\n",
    "@step(\n",
    "    name=\"ExtractTarget\",\n",
    "    display_name=\"Extract Target Column\",\n",
    "    instance_type=instance_type,\n",
    "    instance_count=instance_count,\n",
    ")\n",
    "def extract_target_column(df: pd.DataFrame) -> pd.Series:\n",
    "    \"\"\"\n",
    "    Extract target column from training data\n",
    "\n",
    "    Args:\n",
    "        train_df (pd.DataFrame): Training dataframe\n",
    "\n",
    "    Returns:\n",
    "        pd.Series: Feature variable series\n",
    "    \"\"\"\n",
    "    features = df[\"y\"]\n",
    "    print(f\"Extracted target column with {len(features)} samples\")\n",
    "    return features"
   ]
  },
  {
   "cell_type": "markdown",
   "metadata": {},
   "source": [
    "---"
   ]
  },
  {
   "cell_type": "code",
   "execution_count": null,
   "metadata": {},
   "outputs": [],
   "source": [
    "def create_pipeline():\n",
    "    # Pipeline\n",
    "    step_ingest_train_data = ingest_train_data(train_data_path)\n",
    "    step_ingest_test_data = ingest_test_data(test_data_path)\n",
    "\n",
    "    step_extract_features_column = extract_features_column(step_ingest_train_data)\n",
    "    step_extract_target_column = extract_target_column(step_ingest_train_data)\n",
    "\n",
    "    # Dependencies\n",
    "    step_ingest_train_data_instance = get_step(step_ingest_train_data)\n",
    "    # step_ingest_test_data_instance = get_step(step_ingest_test_data)\n",
    "    step_extract_features_column_instance = get_step(step_extract_features_column)\n",
    "    step_extract_target_column_instance = get_step(step_extract_target_column)\n",
    "\n",
    "    step_extract_features_column_instance.add_depends_on([step_ingest_train_data_instance])\n",
    "    step_extract_target_column_instance.add_depends_on([step_ingest_train_data_instance])\n",
    "\n",
    "    # Create and return pipeline\n",
    "    pipeline = Pipeline(\n",
    "        name=\"BankMarketingPipeline\",\n",
    "        parameters=[train_data_path, test_data_path, instance_type, instance_count],\n",
    "        steps=[step_ingest_train_data, step_ingest_test_data, step_extract_features_column, step_extract_target_column],\n",
    "        sagemaker_session=sagemaker.Session()\n",
    "    )\n",
    "\n",
    "    return pipeline"
   ]
  },
  {
   "cell_type": "code",
   "execution_count": null,
   "metadata": {},
   "outputs": [],
   "source": [
    "# Execute pipeline\n",
    "pipeline = create_pipeline()"
   ]
  },
  {
   "cell_type": "code",
   "execution_count": null,
   "metadata": {},
   "outputs": [],
   "source": [
    "pipeline.upsert(role_arn=role_arn)"
   ]
  },
  {
   "cell_type": "code",
   "execution_count": null,
   "metadata": {},
   "outputs": [],
   "source": [
    "execution = pipeline.start()"
   ]
  },
  {
   "cell_type": "markdown",
   "metadata": {},
   "source": [
    "---"
   ]
  },
  {
   "cell_type": "code",
   "execution_count": null,
   "metadata": {},
   "outputs": [],
   "source": []
  }
 ],
 "metadata": {
  "kernelspec": {
   "display_name": ".venv",
   "language": "python",
   "name": "python3"
  },
  "language_info": {
   "codemirror_mode": {
    "name": "ipython",
    "version": 3
   },
   "file_extension": ".py",
   "mimetype": "text/x-python",
   "name": "python",
   "nbconvert_exporter": "python",
   "pygments_lexer": "ipython3",
   "version": "3.12.3"
  }
 },
 "nbformat": 4,
 "nbformat_minor": 2
}
