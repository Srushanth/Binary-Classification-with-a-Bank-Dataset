{
 "cells": [
  {
   "cell_type": "code",
   "execution_count": null,
   "metadata": {},
   "outputs": [],
   "source": [
    "import sagemaker\n",
    "role = sagemaker.get_execution_role()\n",
    "print(role)"
   ]
  },
  {
   "cell_type": "code",
   "execution_count": null,
   "metadata": {},
   "outputs": [],
   "source": [
    "import sagemaker\n",
    "\n",
    "# Get the default SageMaker execution role\n",
    "role_arn = sagemaker.get_execution_role()\n",
    "role_arn"
   ]
  },
  {
   "cell_type": "code",
   "execution_count": 2,
   "metadata": {},
   "outputs": [],
   "source": [
    "import pandas as pd\n",
    "import numpy as np\n",
    "from sklearn.preprocessing import LabelEncoder\n",
    "from sagemaker.workflow.function_step import step\n",
    "from sagemaker.workflow.pipeline import Pipeline\n",
    "from sagemaker.workflow.parameters import ParameterString\n",
    "from sagemaker.workflow.parameters import ParameterInteger\n",
    "from sagemaker.workflow.parameters import ParameterFloat"
   ]
  },
  {
   "cell_type": "code",
   "execution_count": 3,
   "metadata": {},
   "outputs": [],
   "source": [
    "train_data_path = ParameterString(\n",
    "    name=\"TrainDataPath\",\n",
    "    default_value=\"s3://srushanth-baride/binary-classification-with-a-bank-dataset/train.csv\"\n",
    ")\n",
    "\n",
    "test_data_path = ParameterString(\n",
    "    name=\"TestDataPath\",\n",
    "    default_value=\"s3://srushanth-baride/binary-classification-with-a-bank-dataset/test.csv\"\n",
    ")"
   ]
  },
  {
   "cell_type": "code",
   "execution_count": 4,
   "metadata": {},
   "outputs": [],
   "source": [
    "instance_type = ParameterString(\n",
    "    name=\"InstanceType\",\n",
    "    default_value=\"ml.m5.xlarge\"\n",
    ")\n",
    "\n",
    "instance_count = ParameterInteger(\n",
    "    name=\"InstanceCount\",\n",
    "    default_value=1\n",
    ")"
   ]
  },
  {
   "cell_type": "code",
   "execution_count": 5,
   "metadata": {},
   "outputs": [],
   "source": [
    "train_test_split_ratio = ParameterFloat(\n",
    "    name=\"TrainTestSplitRatio\",\n",
    "    default_value=0.8\n",
    ")"
   ]
  },
  {
   "cell_type": "markdown",
   "metadata": {},
   "source": [
    "---"
   ]
  },
  {
   "cell_type": "code",
   "execution_count": 8,
   "metadata": {},
   "outputs": [],
   "source": [
    "@step(\n",
    "    name=\"IngestTrainingData\",\n",
    "    display_name=\"Ingest Training Data\",\n",
    "    instance_type=instance_type,\n",
    "    instance_count=instance_count\n",
    ")\n",
    "def ingest_data(s3_path: ParameterString) -> pd.DataFrame:\n",
    "    \"\"\"\n",
    "    Ingest data from S3 path\n",
    "    \n",
    "    Args:\n",
    "        s3_path (ParameterString): S3 path to training data\n",
    "        \n",
    "    Returns:\n",
    "        pd.DataFrame: Training dataframe\n",
    "    \"\"\"\n",
    "    df = pd.read_csv(s3_path)\n",
    "    print(f\"Ingested data with shape: {df.shape}\")\n",
    "    return df"
   ]
  },
  {
   "cell_type": "markdown",
   "metadata": {},
   "source": [
    "---"
   ]
  },
  {
   "cell_type": "code",
   "execution_count": null,
   "metadata": {},
   "outputs": [],
   "source": [
    "train_df = pd.read_csv(\"s3://srushanth-baride/binary-classification-with-a-bank-dataset/train.csv\")"
   ]
  },
  {
   "cell_type": "code",
   "execution_count": null,
   "metadata": {},
   "outputs": [],
   "source": [
    "# @step(instance_type=\"ml.m5.xlarge\", instance_count=1)\n",
    "# def ingest_data(s3_path: str) -> pd.DataFrame:\n",
    "#     train_df = pd.read_csv(s3_path)\n",
    "#     return train_df"
   ]
  },
  {
   "cell_type": "code",
   "execution_count": null,
   "metadata": {},
   "outputs": [],
   "source": [
    "@step(instance_type=\"ml.m5.xlarge\", instance_count=1)\n",
    "def get_feature_column(train_df: pd.DataFrame) -> pd.Series:\n",
    "    return train_df[\"y\"]"
   ]
  },
  {
   "cell_type": "code",
   "execution_count": null,
   "metadata": {},
   "outputs": [],
   "source": [
    "train_data_file_path: str = \"s3://srushanth-baride/binary-classification-with-a-bank-dataset/train.csv\"\n",
    "step_ingest_data_result = ingest_data(train_data_file_path)\n",
    "step_get_feature_column_result = get_feature_column(step_ingest_data_result)"
   ]
  },
  {
   "cell_type": "code",
   "execution_count": null,
   "metadata": {},
   "outputs": [],
   "source": [
    "@step(instance_type=\"ml.m5.xlarge\", instance_count=1)\n",
    "def preprocess_data(df: pd.DataFrame) -> tuple:\n",
    "    # Label encoding\n",
    "    object_labels = [\n",
    "        \"job\", \n",
    "        \"marital\", \n",
    "        \"education\", \n",
    "        \"default\", \n",
    "        \"balance\", \n",
    "        \"housing\", \n",
    "        \"loan\", \n",
    "        \"contact\", \n",
    "        \"month\", \n",
    "        \"poutcome\"\n",
    "    ]\n",
    "\n",
    "    for column_name in object_labels:\n",
    "        le = LabelEncoder()\n",
    "        df[column_name] = le.fit_transform(df[column_name])\n",
    "\n",
    "    # Split features and target\n",
    "    y = df[\"y\"]\n",
    "    X = df.drop(columns=[\"id\", \"y\"])\n",
    "\n",
    "    return X, y"
   ]
  },
  {
   "cell_type": "code",
   "execution_count": null,
   "metadata": {},
   "outputs": [],
   "source": [
    "@step(instance_type=\"ml.m5.xlarge\", instance_count=1)\n",
    "def split_data(X: pd.DataFrame, y: pd.DataFrame) -> tuple:\n",
    "    from sklearn.model_selection import train_test_split\n",
    "    x_train, x_test, y_train, y_test = train_test_split(\n",
    "        X, y, train_size=0.8, random_state=42\n",
    "    )\n",
    "\n",
    "    return x_train, x_test, y_train, y_test"
   ]
  },
  {
   "cell_type": "code",
   "execution_count": null,
   "metadata": {},
   "outputs": [],
   "source": [
    "import lightgbm as lgb"
   ]
  },
  {
   "cell_type": "code",
   "execution_count": null,
   "metadata": {},
   "outputs": [],
   "source": [
    "@step(instance_type=\"ml.m5.xlarge\", instance_count=1)\n",
    "def train_model(\n",
    "    x_train: pd.DataFrame, x_test: pd.DataFrame, y_train: pd.DataFrame, y_test: pd.DataFrame\n",
    ") -> lgb.LGBMClassifier:\n",
    "    model = lgb.LGBMClassifier()\n",
    "    model.fit(x_train, y_train, eval_set=[(x_test, y_test)])\n",
    "    \n",
    "    return model"
   ]
  },
  {
   "cell_type": "code",
   "execution_count": null,
   "metadata": {},
   "outputs": [],
   "source": [
    "@step(instance_type=\"ml.m5.xlarge\", instance_count=1)\n",
    "def make_predictions(model: lgb.LGBMClassifier, test_data: pd.DataFrame) -> np.ndarray:\n",
    "    test_data = test_data.drop(columns=[\"id\"])\n",
    "    return model.predict_proba(test_data)[:, -1]"
   ]
  },
  {
   "cell_type": "code",
   "execution_count": null,
   "metadata": {},
   "outputs": [],
   "source": [
    "from sagemaker.workflow.step_outputs import get_step"
   ]
  },
  {
   "cell_type": "code",
   "execution_count": null,
   "metadata": {},
   "outputs": [],
   "source": [
    "def create_pipeline():\n",
    "    # Define the pipeline steps\n",
    "    train_data_path = \"s3://srushanth-baride/binary-classification-with-a-bank-dataset/train.csv\"\n",
    "    test_data_path = \"s3://srushanth-baride/binary-classification-with-a-bank-dataset/test.csv\"\n",
    "\n",
    "    # Ingest data\n",
    "    step_ingest_data = ingest_data(train_data_path)\n",
    "\n",
    "    # Preprocess data\n",
    "    step_preprocess = preprocess_data(step_ingest_data)\n",
    "\n",
    "    # Split data\n",
    "    step_split = split_data(\n",
    "        step_preprocess[0],\n",
    "        step_preprocess[1]\n",
    "    )\n",
    "    \n",
    "    # Train model\n",
    "    step_train = train_model(\n",
    "        step_split[0],\n",
    "        step_split[1],\n",
    "        step_split[2],\n",
    "        step_split[3]\n",
    "    )\n",
    "\n",
    "    # Make predictions\n",
    "    test_df = pd.read_csv(test_data_path)\n",
    "    step_predict = make_predictions(\n",
    "        step_train,\n",
    "        test_df\n",
    "    )\n",
    "\n",
    "    # If you really need explicit dependencies, define them like this:\n",
    "    step_preprocess_instance = get_step(step_preprocess)\n",
    "    step_split_instance = get_step(step_split)\n",
    "    step_train_instance = get_step(step_train)\n",
    "    step_predict_instance = get_step(step_predict)\n",
    "\n",
    "    # Add dependencies if needed\n",
    "    step_split_instance.add_depends_on([step_preprocess_instance])\n",
    "    step_train_instance.add_depends_on([step_split_instance])\n",
    "    step_predict_instance.add_depends_on([step_train_instance])\n",
    "\n",
    "    # Create and return pipeline\n",
    "    pipeline = Pipeline(\n",
    "        name=\"BankMarketingPipeline\",\n",
    "        steps=[step_ingest_data, step_preprocess, step_split, step_train, step_predict],\n",
    "        sagemaker_session=sagemaker.Session()\n",
    "    )\n",
    "    \n",
    "    return pipeline"
   ]
  },
  {
   "cell_type": "code",
   "execution_count": null,
   "metadata": {},
   "outputs": [],
   "source": [
    "# Execute pipeline\n",
    "pipeline = create_pipeline()"
   ]
  },
  {
   "cell_type": "code",
   "execution_count": null,
   "metadata": {},
   "outputs": [],
   "source": [
    "pipeline.upsert(role_arn=role_arn)"
   ]
  },
  {
   "cell_type": "code",
   "execution_count": null,
   "metadata": {},
   "outputs": [],
   "source": [
    "execution = pipeline.start()"
   ]
  },
  {
   "cell_type": "code",
   "execution_count": null,
   "metadata": {},
   "outputs": [],
   "source": [
    "print(pipeline.definition())"
   ]
  },
  {
   "cell_type": "code",
   "execution_count": null,
   "metadata": {},
   "outputs": [],
   "source": []
  }
 ],
 "metadata": {
  "kernelspec": {
   "display_name": ".venv",
   "language": "python",
   "name": "python3"
  },
  "language_info": {
   "codemirror_mode": {
    "name": "ipython",
    "version": 3
   },
   "file_extension": ".py",
   "mimetype": "text/x-python",
   "name": "python",
   "nbconvert_exporter": "python",
   "pygments_lexer": "ipython3",
   "version": "3.12.3"
  }
 },
 "nbformat": 4,
 "nbformat_minor": 2
}
